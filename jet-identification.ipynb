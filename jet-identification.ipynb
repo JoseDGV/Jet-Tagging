{
 "cells": [
  {
   "cell_type": "markdown",
   "metadata": {},
   "source": [
    "The goal of this program is to read the .root files located in the remote machine at \n",
    "\n",
    "xilinx/scratch/Graph_For_Combinatoric/ttbar_allhad_13TeV_PU40/ttbar_allhad_13TeV_PU40_*.root."
   ]
  },
  {
   "cell_type": "code",
   "execution_count": 1,
   "metadata": {},
   "outputs": [],
   "source": [
    "#importing needed libraries\n",
    "import uproot\n",
    "import numpy as np\n",
    "import h5py\n",
    "import pandas as pd"
   ]
  },
  {
   "cell_type": "code",
   "execution_count": 2,
   "metadata": {},
   "outputs": [],
   "source": [
    "#opening root file\n",
    "file = uproot.open('/xilinx/scratch/Graph_For_Combinatoric/ttbar_allhad_13TeV_PU40/ttbar_allhad_13TeV_PU40_0.root')"
   ]
  },
  {
   "cell_type": "code",
   "execution_count": 3,
   "metadata": {},
   "outputs": [
    {
     "data": {
      "text/plain": [
       "[b'ProcessID0;1', b'Delphes;1']"
      ]
     },
     "execution_count": 3,
     "metadata": {},
     "output_type": "execute_result"
    }
   ],
   "source": [
    "#checking keys\n",
    "file.keys()"
   ]
  },
  {
   "cell_type": "code",
   "execution_count": 4,
   "metadata": {},
   "outputs": [
    {
     "data": {
      "text/plain": [
       "[(b'ProcessID0;1', 'TProcessID'), (b'Delphes;1', 'TTree')]"
      ]
     },
     "execution_count": 4,
     "metadata": {},
     "output_type": "execute_result"
    }
   ],
   "source": [
    "#checking keys classes\n",
    "file.classnames()"
   ]
  },
  {
   "cell_type": "code",
   "execution_count": 5,
   "metadata": {
    "scrolled": true
   },
   "outputs": [],
   "source": [
    "#declaring variables to read .root file\n",
    "treename = 'Delphes'\n",
    "filename = {}\n",
    "upfile = {}"
   ]
  },
  {
   "cell_type": "code",
   "execution_count": 6,
   "metadata": {},
   "outputs": [],
   "source": [
    "#loading .root files\n",
    "filename['ttbar_0'] = '/xilinx/scratch/Graph_For_Combinatoric/ttbar_allhad_13TeV_PU40/ttbar_allhad_13TeV_PU40_0.root'\n",
    "\n",
    "upfile['ttbar_0'] = uproot.open(filename['ttbar_0'])"
   ]
  },
  {
   "cell_type": "code",
   "execution_count": 7,
   "metadata": {},
   "outputs": [
    {
     "name": "stdout",
     "output_type": "stream",
     "text": [
      "Event                      TStreamerInfo              asdtype('>i4')\n",
      "Event.fUniqueID            TStreamerBasicType         asjagged(asdtype('>u4'))\n",
      "Event.fBits                TStreamerBasicType         asjagged(asdtype('>u4'))\n",
      "Event.Number               TStreamerBasicType         asjagged(asdtype('>i8'))\n",
      "Event.ReadTime             TStreamerBasicType         asjagged(asdtype('>f4'))\n",
      "Event.ProcTime             TStreamerBasicType         asjagged(asdtype('>f4'))\n",
      "Event.ProcessID            TStreamerBasicType         asjagged(asdtype('>i4'))\n",
      "Event.MPI                  TStreamerBasicType         asjagged(asdtype('>i4'))\n",
      "Event.Weight               TStreamerBasicType         asjagged(asdtype('>f4'))\n",
      "Event.Scale                TStreamerBasicType         asjagged(asdtype('>f4'))\n",
      "Event.AlphaQED             TStreamerBasicType         asjagged(asdtype('>f4'))\n",
      "Event.AlphaQCD             TStreamerBasicType         asjagged(asdtype('>f4'))\n",
      "Event.ID1                  TStreamerBasicType         asjagged(asdtype('>i4'))\n",
      "Event.ID2                  TStreamerBasicType         asjagged(asdtype('>i4'))\n",
      "Event.X1                   TStreamerBasicType         asjagged(asdtype('>f4'))\n",
      "Event.X2                   TStreamerBasicType         asjagged(asdtype('>f4'))\n",
      "Event.ScalePDF             TStreamerBasicType         asjagged(asdtype('>f4'))\n",
      "Event.PDF1                 TStreamerBasicType         asjagged(asdtype('>f4'))\n",
      "Event.PDF2                 TStreamerBasicType         asjagged(asdtype('>f4'))\n",
      "\n",
      "Event_size                 (no streamer)              asdtype('>i4')\n",
      "Particle                   TStreamerInfo              asdtype('>i4')\n",
      "Particle.fUniqueID         TStreamerBasicType         asjagged(asdtype('>u4'))\n",
      "Particle.fBits             TStreamerBasicType         asjagged(asdtype('>u4'))\n",
      "Particle.PID               TStreamerBasicType         asjagged(asdtype('>i4'))\n",
      "Particle.Status            TStreamerBasicType         asjagged(asdtype('>i4'))\n",
      "Particle.IsPU              TStreamerBasicType         asjagged(asdtype('>i4'))\n",
      "Particle.M1                TStreamerBasicType         asjagged(asdtype('>i4'))\n",
      "Particle.M2                TStreamerBasicType         asjagged(asdtype('>i4'))\n",
      "Particle.D1                TStreamerBasicType         asjagged(asdtype('>i4'))\n",
      "Particle.D2                TStreamerBasicType         asjagged(asdtype('>i4'))\n",
      "Particle.Charge            TStreamerBasicType         asjagged(asdtype('>i4'))\n",
      "Particle.Mass              TStreamerBasicType         asjagged(asdtype('>f4'))\n",
      "Particle.E                 TStreamerBasicType         asjagged(asdtype('>f4'))\n",
      "Particle.Px                TStreamerBasicType         asjagged(asdtype('>f4'))\n",
      "Particle.Py                TStreamerBasicType         asjagged(asdtype('>f4'))\n",
      "Particle.Pz                TStreamerBasicType         asjagged(asdtype('>f4'))\n",
      "Particle.PT                TStreamerBasicType         asjagged(asdtype('>f4'))\n",
      "Particle.Eta               TStreamerBasicType         asjagged(asdtype('>f4'))\n",
      "Particle.Phi               TStreamerBasicType         asjagged(asdtype('>f4'))\n",
      "Particle.Rapidity          TStreamerBasicType         asjagged(asdtype('>f4'))\n",
      "Particle.T                 TStreamerBasicType         asjagged(asdtype('>f4'))\n",
      "Particle.X                 TStreamerBasicType         asjagged(asdtype('>f4'))\n",
      "Particle.Y                 TStreamerBasicType         asjagged(asdtype('>f4'))\n",
      "Particle.Z                 TStreamerBasicType         asjagged(asdtype('>f4'))\n",
      "\n",
      "Particle_size              (no streamer)              asdtype('>i4')\n",
      "EFlowTrack                 TStreamerInfo              asdtype('>i4')\n",
      "EFlowTrack.fUniqueID       TStreamerBasicType         asjagged(asdtype('>u4'))\n",
      "EFlowTrack.fBits           TStreamerBasicType         asjagged(asdtype('>u4'))\n",
      "EFlowTrack.PID             TStreamerBasicType         asjagged(asdtype('>i4'))\n",
      "EFlowTrack.Charge          TStreamerBasicType         asjagged(asdtype('>i4'))\n",
      "EFlowTrack.PT              TStreamerBasicType         asjagged(asdtype('>f4'))\n",
      "EFlowTrack.Eta             TStreamerBasicType         asjagged(asdtype('>f4'))\n",
      "EFlowTrack.Phi             TStreamerBasicType         asjagged(asdtype('>f4'))\n",
      "EFlowTrack.EtaOuter        TStreamerBasicType         asjagged(asdtype('>f4'))\n",
      "EFlowTrack.PhiOuter        TStreamerBasicType         asjagged(asdtype('>f4'))\n",
      "EFlowTrack.X               TStreamerBasicType         asjagged(asdtype('>f4'))\n",
      "EFlowTrack.Y               TStreamerBasicType         asjagged(asdtype('>f4'))\n",
      "EFlowTrack.Z               TStreamerBasicType         asjagged(asdtype('>f4'))\n",
      "EFlowTrack.T               TStreamerBasicType         asjagged(asdtype('>f4'))\n",
      "EFlowTrack.XOuter          TStreamerBasicType         asjagged(asdtype('>f4'))\n",
      "EFlowTrack.YOuter          TStreamerBasicType         asjagged(asdtype('>f4'))\n",
      "EFlowTrack.ZOuter          TStreamerBasicType         asjagged(asdtype('>f4'))\n",
      "EFlowTrack.TOuter          TStreamerBasicType         asjagged(asdtype('>f4'))\n",
      "EFlowTrack.Dxy             TStreamerBasicType         asjagged(asdtype('>f4'))\n",
      "EFlowTrack.SDxy            TStreamerBasicType         asjagged(asdtype('>f4'))\n",
      "EFlowTrack.Xd              TStreamerBasicType         asjagged(asdtype('>f4'))\n",
      "EFlowTrack.Yd              TStreamerBasicType         asjagged(asdtype('>f4'))\n",
      "EFlowTrack.Zd              TStreamerBasicType         asjagged(asdtype('>f4'))\n",
      "EFlowTrack.Particle        TStreamerInfo              asjagged(asobj(<uproot.rootio.TRef>))\n",
      "\n",
      "EFlowTrack_size            (no streamer)              asdtype('>i4')\n",
      "EFlowPhoton                TStreamerInfo              asdtype('>i4')\n",
      "EFlowPhoton.fUniqueID      TStreamerBasicType         asjagged(asdtype('>u4'))\n",
      "EFlowPhoton.fBits          TStreamerBasicType         asjagged(asdtype('>u4'))\n",
      "EFlowPhoton.ET             TStreamerBasicType         asjagged(asdtype('>f4'))\n",
      "EFlowPhoton.Eta            TStreamerBasicType         asjagged(asdtype('>f4'))\n",
      "EFlowPhoton.Phi            TStreamerBasicType         asjagged(asdtype('>f4'))\n",
      "EFlowPhoton.E              TStreamerBasicType         asjagged(asdtype('>f4'))\n",
      "EFlowPhoton.T              TStreamerBasicType         asjagged(asdtype('>f4'))\n",
      "EFlowPhoton.NTimeHits      TStreamerBasicType         asjagged(asdtype('>i4'))\n",
      "EFlowPhoton.Eem            TStreamerBasicType         asjagged(asdtype('>f4'))\n",
      "EFlowPhoton.Ehad           TStreamerBasicType         asjagged(asdtype('>f4'))\n",
      "EFlowPhoton.Edges[4]       TStreamerBasicType         asjagged(asdtype(\"('>f4', (4,))\"))\n",
      "EFlowPhoton.Particles      TStreamerInfo              asgenobj(SimpleArray(TRefArray))\n",
      "\n",
      "EFlowPhoton_size           (no streamer)              asdtype('>i4')\n",
      "EFlowNeutralHadron         TStreamerInfo              asdtype('>i4')\n",
      "EFlowNeutralHadron.fUniqueID\n",
      "                           TStreamerBasicType         asjagged(asdtype('>u4'))\n",
      "EFlowNeutralHadron.fBits   TStreamerBasicType         asjagged(asdtype('>u4'))\n",
      "EFlowNeutralHadron.ET      TStreamerBasicType         asjagged(asdtype('>f4'))\n",
      "EFlowNeutralHadron.Eta     TStreamerBasicType         asjagged(asdtype('>f4'))\n",
      "EFlowNeutralHadron.Phi     TStreamerBasicType         asjagged(asdtype('>f4'))\n",
      "EFlowNeutralHadron.E       TStreamerBasicType         asjagged(asdtype('>f4'))\n",
      "EFlowNeutralHadron.T       TStreamerBasicType         asjagged(asdtype('>f4'))\n",
      "EFlowNeutralHadron.NTimeHits\n",
      "                           TStreamerBasicType         asjagged(asdtype('>i4'))\n",
      "EFlowNeutralHadron.Eem     TStreamerBasicType         asjagged(asdtype('>f4'))\n",
      "EFlowNeutralHadron.Ehad    TStreamerBasicType         asjagged(asdtype('>f4'))\n",
      "EFlowNeutralHadron.Edges[4]\n",
      "                           TStreamerBasicType         asjagged(asdtype(\"('>f4', (4,))\"))\n",
      "EFlowNeutralHadron.Particles\n",
      "                           TStreamerInfo              asgenobj(SimpleArray(TRefArray))\n",
      "\n",
      "EFlowNeutralHadron_size    (no streamer)              asdtype('>i4')\n",
      "GenJet                     TStreamerInfo              asdtype('>i4')\n",
      "GenJet.fUniqueID           TStreamerBasicType         asjagged(asdtype('>u4'))\n",
      "GenJet.fBits               TStreamerBasicType         asjagged(asdtype('>u4'))\n",
      "GenJet.PT                  TStreamerBasicType         asjagged(asdtype('>f4'))\n",
      "GenJet.Eta                 TStreamerBasicType         asjagged(asdtype('>f4'))\n",
      "GenJet.Phi                 TStreamerBasicType         asjagged(asdtype('>f4'))\n",
      "GenJet.T                   TStreamerBasicType         asjagged(asdtype('>f4'))\n",
      "GenJet.Mass                TStreamerBasicType         asjagged(asdtype('>f4'))\n",
      "GenJet.DeltaEta            TStreamerBasicType         asjagged(asdtype('>f4'))\n",
      "GenJet.DeltaPhi            TStreamerBasicType         asjagged(asdtype('>f4'))\n",
      "GenJet.Flavor              TStreamerBasicType         asjagged(asdtype('>u4'))\n",
      "GenJet.FlavorAlgo          TStreamerBasicType         asjagged(asdtype('>u4'))\n",
      "GenJet.FlavorPhys          TStreamerBasicType         asjagged(asdtype('>u4'))\n",
      "GenJet.BTag                TStreamerBasicType         asjagged(asdtype('>u4'))\n",
      "GenJet.BTagAlgo            TStreamerBasicType         asjagged(asdtype('>u4'))\n",
      "GenJet.BTagPhys            TStreamerBasicType         asjagged(asdtype('>u4'))\n",
      "GenJet.TauTag              TStreamerBasicType         asjagged(asdtype('>u4'))\n",
      "GenJet.Charge              TStreamerBasicType         asjagged(asdtype('>i4'))\n",
      "GenJet.EhadOverEem         TStreamerBasicType         asjagged(asdtype('>f4'))\n",
      "GenJet.NCharged            TStreamerBasicType         asjagged(asdtype('>i4'))\n",
      "GenJet.NNeutrals           TStreamerBasicType         asjagged(asdtype('>i4'))\n",
      "GenJet.Beta                TStreamerBasicType         asjagged(asdtype('>f4'))\n",
      "GenJet.BetaStar            TStreamerBasicType         asjagged(asdtype('>f4'))\n",
      "GenJet.MeanSqDeltaR        TStreamerBasicType         asjagged(asdtype('>f4'))\n",
      "GenJet.PTD                 TStreamerBasicType         asjagged(asdtype('>f4'))\n",
      "GenJet.FracPt[5]           TStreamerBasicType         asjagged(asdtype(\"('>f4', (5,))\"))\n",
      "GenJet.Tau[5]              TStreamerBasicType         asjagged(asdtype(\"('>f4', (5,))\"))\n",
      "GenJet.TrimmedP4[5]        TStreamerInfo              asjagged(asobj(<uproot_methods.classes.TLorentzVector.Methods>))\n",
      "GenJet.PrunedP4[5]         TStreamerInfo              asjagged(asobj(<uproot_methods.classes.TLorentzVector.Methods>))\n",
      "GenJet.SoftDroppedP4[5]    TStreamerInfo              asjagged(asobj(<uproot_methods.classes.TLorentzVector.Methods>))\n",
      "GenJet.NSubJetsTrimmed     TStreamerBasicType         asjagged(asdtype('>i4'))\n",
      "GenJet.NSubJetsPruned      TStreamerBasicType         asjagged(asdtype('>i4'))\n",
      "GenJet.NSubJetsSoftDropped TStreamerBasicType         asjagged(asdtype('>i4'))\n",
      "GenJet.Constituents        TStreamerInfo              asgenobj(SimpleArray(TRefArray))\n",
      "GenJet.Particles           TStreamerInfo              asgenobj(SimpleArray(TRefArray))\n",
      "GenJet.Area                TStreamerInfo              asjagged(asobj(<uproot_methods.classes.TLorentzVector.Methods>))\n",
      "\n",
      "GenJet_size                (no streamer)              asdtype('>i4')\n",
      "GenMissingET               TStreamerInfo              asdtype('>i4')\n",
      "GenMissingET.fUniqueID     TStreamerBasicType         asjagged(asdtype('>u4'))\n",
      "GenMissingET.fBits         TStreamerBasicType         asjagged(asdtype('>u4'))\n",
      "GenMissingET.MET           TStreamerBasicType         asjagged(asdtype('>f4'))\n",
      "GenMissingET.Eta           TStreamerBasicType         asjagged(asdtype('>f4'))\n",
      "GenMissingET.Phi           TStreamerBasicType         asjagged(asdtype('>f4'))\n",
      "\n",
      "GenMissingET_size          (no streamer)              asdtype('>i4')\n",
      "Jet                        TStreamerInfo              asdtype('>i4')\n",
      "Jet.fUniqueID              TStreamerBasicType         asjagged(asdtype('>u4'))\n",
      "Jet.fBits                  TStreamerBasicType         asjagged(asdtype('>u4'))\n",
      "Jet.PT                     TStreamerBasicType         asjagged(asdtype('>f4'))\n",
      "Jet.Eta                    TStreamerBasicType         asjagged(asdtype('>f4'))\n",
      "Jet.Phi                    TStreamerBasicType         asjagged(asdtype('>f4'))\n",
      "Jet.T                      TStreamerBasicType         asjagged(asdtype('>f4'))\n",
      "Jet.Mass                   TStreamerBasicType         asjagged(asdtype('>f4'))\n",
      "Jet.DeltaEta               TStreamerBasicType         asjagged(asdtype('>f4'))\n",
      "Jet.DeltaPhi               TStreamerBasicType         asjagged(asdtype('>f4'))\n",
      "Jet.Flavor                 TStreamerBasicType         asjagged(asdtype('>u4'))\n",
      "Jet.FlavorAlgo             TStreamerBasicType         asjagged(asdtype('>u4'))\n",
      "Jet.FlavorPhys             TStreamerBasicType         asjagged(asdtype('>u4'))\n",
      "Jet.BTag                   TStreamerBasicType         asjagged(asdtype('>u4'))\n",
      "Jet.BTagAlgo               TStreamerBasicType         asjagged(asdtype('>u4'))\n",
      "Jet.BTagPhys               TStreamerBasicType         asjagged(asdtype('>u4'))\n",
      "Jet.TauTag                 TStreamerBasicType         asjagged(asdtype('>u4'))\n",
      "Jet.Charge                 TStreamerBasicType         asjagged(asdtype('>i4'))\n",
      "Jet.EhadOverEem            TStreamerBasicType         asjagged(asdtype('>f4'))\n",
      "Jet.NCharged               TStreamerBasicType         asjagged(asdtype('>i4'))\n",
      "Jet.NNeutrals              TStreamerBasicType         asjagged(asdtype('>i4'))\n",
      "Jet.Beta                   TStreamerBasicType         asjagged(asdtype('>f4'))\n",
      "Jet.BetaStar               TStreamerBasicType         asjagged(asdtype('>f4'))\n",
      "Jet.MeanSqDeltaR           TStreamerBasicType         asjagged(asdtype('>f4'))\n",
      "Jet.PTD                    TStreamerBasicType         asjagged(asdtype('>f4'))\n",
      "Jet.FracPt[5]              TStreamerBasicType         asjagged(asdtype(\"('>f4', (5,))\"))\n",
      "Jet.Tau[5]                 TStreamerBasicType         asjagged(asdtype(\"('>f4', (5,))\"))\n",
      "Jet.TrimmedP4[5]           TStreamerInfo              asjagged(asobj(<uproot_methods.classes.TLorentzVector.Methods>))\n",
      "Jet.PrunedP4[5]            TStreamerInfo              asjagged(asobj(<uproot_methods.classes.TLorentzVector.Methods>))\n",
      "Jet.SoftDroppedP4[5]       TStreamerInfo              asjagged(asobj(<uproot_methods.classes.TLorentzVector.Methods>))\n",
      "Jet.NSubJetsTrimmed        TStreamerBasicType         asjagged(asdtype('>i4'))\n",
      "Jet.NSubJetsPruned         TStreamerBasicType         asjagged(asdtype('>i4'))\n",
      "Jet.NSubJetsSoftDropped    TStreamerBasicType         asjagged(asdtype('>i4'))\n",
      "Jet.Constituents           TStreamerInfo              asgenobj(SimpleArray(TRefArray))\n",
      "Jet.Particles              TStreamerInfo              asgenobj(SimpleArray(TRefArray))\n",
      "Jet.Area                   TStreamerInfo              asjagged(asobj(<uproot_methods.classes.TLorentzVector.Methods>))\n",
      "\n",
      "Jet_size                   (no streamer)              asdtype('>i4')\n",
      "Electron                   TStreamerInfo              asdtype('>i4')\n",
      "Electron.fUniqueID         TStreamerBasicType         asjagged(asdtype('>u4'))\n",
      "Electron.fBits             TStreamerBasicType         asjagged(asdtype('>u4'))\n",
      "Electron.PT                TStreamerBasicType         asjagged(asdtype('>f4'))\n",
      "Electron.Eta               TStreamerBasicType         asjagged(asdtype('>f4'))\n",
      "Electron.Phi               TStreamerBasicType         asjagged(asdtype('>f4'))\n",
      "Electron.T                 TStreamerBasicType         asjagged(asdtype('>f4'))\n",
      "Electron.Charge            TStreamerBasicType         asjagged(asdtype('>i4'))\n",
      "Electron.EhadOverEem       TStreamerBasicType         asjagged(asdtype('>f4'))\n",
      "Electron.Particle          TStreamerInfo              asjagged(asobj(<uproot.rootio.TRef>))\n",
      "Electron.IsolationVar      TStreamerBasicType         asjagged(asdtype('>f4'))\n",
      "Electron.IsolationVarRhoCorr\n",
      "                           TStreamerBasicType         asjagged(asdtype('>f4'))\n",
      "Electron.SumPtCharged      TStreamerBasicType         asjagged(asdtype('>f4'))\n",
      "Electron.SumPtNeutral      TStreamerBasicType         asjagged(asdtype('>f4'))\n",
      "Electron.SumPtChargedPU    TStreamerBasicType         asjagged(asdtype('>f4'))\n",
      "Electron.SumPt             TStreamerBasicType         asjagged(asdtype('>f4'))\n",
      "\n",
      "Electron_size              (no streamer)              asdtype('>i4')\n",
      "Photon                     TStreamerInfo              asdtype('>i4')\n",
      "Photon.fUniqueID           TStreamerBasicType         asjagged(asdtype('>u4'))\n",
      "Photon.fBits               TStreamerBasicType         asjagged(asdtype('>u4'))\n",
      "Photon.PT                  TStreamerBasicType         asjagged(asdtype('>f4'))\n",
      "Photon.Eta                 TStreamerBasicType         asjagged(asdtype('>f4'))\n",
      "Photon.Phi                 TStreamerBasicType         asjagged(asdtype('>f4'))\n",
      "Photon.E                   TStreamerBasicType         asjagged(asdtype('>f4'))\n",
      "Photon.T                   TStreamerBasicType         asjagged(asdtype('>f4'))\n",
      "Photon.EhadOverEem         TStreamerBasicType         asjagged(asdtype('>f4'))\n",
      "Photon.Particles           TStreamerInfo              asgenobj(SimpleArray(TRefArray))\n",
      "Photon.IsolationVar        TStreamerBasicType         asjagged(asdtype('>f4'))\n",
      "Photon.IsolationVarRhoCorr TStreamerBasicType         asjagged(asdtype('>f4'))\n",
      "Photon.SumPtCharged        TStreamerBasicType         asjagged(asdtype('>f4'))\n",
      "Photon.SumPtNeutral        TStreamerBasicType         asjagged(asdtype('>f4'))\n",
      "Photon.SumPtChargedPU      TStreamerBasicType         asjagged(asdtype('>f4'))\n",
      "Photon.SumPt               TStreamerBasicType         asjagged(asdtype('>f4'))\n",
      "\n",
      "Photon_size                (no streamer)              asdtype('>i4')\n",
      "Muon                       TStreamerInfo              asdtype('>i4')\n",
      "Muon.fUniqueID             TStreamerBasicType         asjagged(asdtype('>u4'))\n",
      "Muon.fBits                 TStreamerBasicType         asjagged(asdtype('>u4'))\n",
      "Muon.PT                    TStreamerBasicType         asjagged(asdtype('>f4'))\n",
      "Muon.Eta                   TStreamerBasicType         asjagged(asdtype('>f4'))\n",
      "Muon.Phi                   TStreamerBasicType         asjagged(asdtype('>f4'))\n",
      "Muon.T                     TStreamerBasicType         asjagged(asdtype('>f4'))\n",
      "Muon.Charge                TStreamerBasicType         asjagged(asdtype('>i4'))\n",
      "Muon.Particle              TStreamerInfo              asjagged(asobj(<uproot.rootio.TRef>))\n",
      "Muon.IsolationVar          TStreamerBasicType         asjagged(asdtype('>f4'))\n",
      "Muon.IsolationVarRhoCorr   TStreamerBasicType         asjagged(asdtype('>f4'))\n",
      "Muon.SumPtCharged          TStreamerBasicType         asjagged(asdtype('>f4'))\n",
      "Muon.SumPtNeutral          TStreamerBasicType         asjagged(asdtype('>f4'))\n",
      "Muon.SumPtChargedPU        TStreamerBasicType         asjagged(asdtype('>f4'))\n",
      "Muon.SumPt                 TStreamerBasicType         asjagged(asdtype('>f4'))\n",
      "\n",
      "Muon_size                  (no streamer)              asdtype('>i4')\n",
      "MissingET                  TStreamerInfo              asdtype('>i4')\n",
      "MissingET.fUniqueID        TStreamerBasicType         asjagged(asdtype('>u4'))\n",
      "MissingET.fBits            TStreamerBasicType         asjagged(asdtype('>u4'))\n",
      "MissingET.MET              TStreamerBasicType         asjagged(asdtype('>f4'))\n",
      "MissingET.Eta              TStreamerBasicType         asjagged(asdtype('>f4'))\n",
      "MissingET.Phi              TStreamerBasicType         asjagged(asdtype('>f4'))\n",
      "\n",
      "MissingET_size             (no streamer)              asdtype('>i4')\n",
      "ScalarHT                   TStreamerInfo              asdtype('>i4')\n",
      "ScalarHT.fUniqueID         TStreamerBasicType         asjagged(asdtype('>u4'))\n",
      "ScalarHT.fBits             TStreamerBasicType         asjagged(asdtype('>u4'))\n",
      "ScalarHT.HT                TStreamerBasicType         asjagged(asdtype('>f4'))\n",
      "\n",
      "ScalarHT_size              (no streamer)              asdtype('>i4')\n",
      "Rho                        TStreamerInfo              asdtype('>i4')\n",
      "Rho.fUniqueID              TStreamerBasicType         asjagged(asdtype('>u4'))\n",
      "Rho.fBits                  TStreamerBasicType         asjagged(asdtype('>u4'))\n",
      "Rho.Rho                    TStreamerBasicType         asjagged(asdtype('>f4'))\n",
      "Rho.Edges[2]               TStreamerBasicType         asjagged(asdtype(\"('>f4', (2,))\"))\n",
      "\n",
      "Rho_size                   (no streamer)              asdtype('>i4')\n",
      "Vertex                     TStreamerInfo              asdtype('>i4')\n",
      "Vertex.fUniqueID           TStreamerBasicType         asjagged(asdtype('>u4'))\n",
      "Vertex.fBits               TStreamerBasicType         asjagged(asdtype('>u4'))\n",
      "Vertex.T                   TStreamerBasicType         asjagged(asdtype('>f4'))\n",
      "Vertex.X                   TStreamerBasicType         asjagged(asdtype('>f4'))\n",
      "Vertex.Y                   TStreamerBasicType         asjagged(asdtype('>f4'))\n",
      "Vertex.Z                   TStreamerBasicType         asjagged(asdtype('>f4'))\n",
      "\n",
      "Vertex_size                (no streamer)              asdtype('>i4')\n",
      "None\n"
     ]
    }
   ],
   "source": [
    "#printing tree content\n",
    "print(upfile['ttbar_0'][treename].show())"
   ]
  },
  {
   "cell_type": "code",
   "execution_count": 8,
   "metadata": {},
   "outputs": [
    {
     "data": {
      "text/plain": [
       "[b'Event',\n",
       " b'Event_size',\n",
       " b'Particle',\n",
       " b'Particle_size',\n",
       " b'EFlowTrack',\n",
       " b'EFlowTrack_size',\n",
       " b'EFlowPhoton',\n",
       " b'EFlowPhoton_size',\n",
       " b'EFlowNeutralHadron',\n",
       " b'EFlowNeutralHadron_size',\n",
       " b'GenJet',\n",
       " b'GenJet_size',\n",
       " b'GenMissingET',\n",
       " b'GenMissingET_size',\n",
       " b'Jet',\n",
       " b'Jet_size',\n",
       " b'Electron',\n",
       " b'Electron_size',\n",
       " b'Photon',\n",
       " b'Photon_size',\n",
       " b'Muon',\n",
       " b'Muon_size',\n",
       " b'MissingET',\n",
       " b'MissingET_size',\n",
       " b'ScalarHT',\n",
       " b'ScalarHT_size',\n",
       " b'Rho',\n",
       " b'Rho_size',\n",
       " b'Vertex',\n",
       " b'Vertex_size']"
      ]
     },
     "execution_count": 8,
     "metadata": {},
     "output_type": "execute_result"
    }
   ],
   "source": [
    "#reading tree branches\n",
    "tree = file['Delphes'] #asigning the tree to a variable\n",
    "tree.keys()"
   ]
  },
  {
   "cell_type": "code",
   "execution_count": 16,
   "metadata": {},
   "outputs": [
    {
     "data": {
      "text/plain": [
       "array([   1,    2,    3, ..., 1072, 1073, 1074], dtype=uint32)"
      ]
     },
     "execution_count": 16,
     "metadata": {},
     "output_type": "execute_result"
    }
   ],
   "source": [
    "#setting tree branches as a group of arrays\n",
    "tree.array(['Particle.fUniqueID'],flatten=True)\n",
    "#tree.array(flatten=True) (why doesnt it work?)"
   ]
  },
  {
   "cell_type": "markdown",
   "metadata": {},
   "source": [
    "Now that the file has been read, we plot some data out of it."
   ]
  },
  {
   "cell_type": "code",
   "execution_count": 10,
   "metadata": {},
   "outputs": [],
   "source": [
    "#setting variables to be plotted\n",
    "VARS_JET = ['Jet.PT','Jet.Mass']\n",
    "VARS_GENJET = ['GenJet.PT','GenJet.Mass']"
   ]
  },
  {
   "cell_type": "code",
   "execution_count": 11,
   "metadata": {},
   "outputs": [],
   "source": [
    "#importing matplotlib to plot and set it so images saves to the folder using inline\n",
    "import matplotlib.pyplot as plt\n",
    "%matplotlib inline"
   ]
  },
  {
   "cell_type": "code",
   "execution_count": 12,
   "metadata": {},
   "outputs": [],
   "source": [
    "#loading root files into pds dataframes\n",
    "df = {}\n",
    "df['ttbar_0_1'] = upfile['ttbar_0'][treename].pandas.df(branches=VARS_JET, flatten=True)\n",
    "df['ttbar_0_2'] = upfile['ttbar_0'][treename].pandas.df(branches=VARS_GENJET, flatten=True)"
   ]
  },
  {
   "cell_type": "code",
   "execution_count": 13,
   "metadata": {},
   "outputs": [
    {
     "data": {
      "text/plain": [
       "(0.0, 200.0)"
      ]
     },
     "execution_count": 13,
     "metadata": {},
     "output_type": "execute_result"
    },
    {
     "data": {
      "image/png": "[encoded data removed]",
      "text/plain": [
       "<Figure size 500x400 with 1 Axes>"
      ]
     },
     "metadata": {
      "needs_background": "light"
     },
     "output_type": "display_data"
    },
    {
     "data": {
      "image/png": "[encoded data removed]",
      "text/plain": [
       "<Figure size 500x400 with 1 Axes>"
      ]
     },
     "metadata": {
      "needs_background": "light"
     },
     "output_type": "display_data"
    }
   ],
   "source": [
    "#plotting\n",
    "plt.figure(figsize=(5, 4),dpi=100)\n",
    "plt.xlabel(VARS_JET[0])\n",
    "bins = np.linspace(0, 140, 80)\n",
    "df['ttbar_0_1'][VARS_JET[0]].plot.hist(bins=bins, alpha=1, label='ttbar_0',histtype='step')\n",
    "df['ttbar_0_2'][VARS_GENJET[0]].plot.hist(bins=bins, alpha=1, label='ttbar_0',histtype='step')\n",
    "plt.legend(loc='upper right')\n",
    "plt.xlim(0,140)\n",
    "plt.figure(figsize=(5, 4),dpi=100)\n",
    "plt.xlabel(VARS_JET[1])\n",
    "bins = np.linspace(0, 200, 80)\n",
    "df['ttbar_0_1'][VARS_JET[1]].plot.hist(bins=bins, alpha=1, label='ttbar_0',histtype='step')\n",
    "df['ttbar_0_2'][VARS_GENJET[1]].plot.hist(bins=bins, alpha=1, label='ttbar_0',histtype='step')\n",
    "plt.legend(loc='upper right')\n",
    "plt.xlim(0,200)"
   ]
  },
  {
   "cell_type": "code",
   "execution_count": null,
   "metadata": {},
   "outputs": [],
   "source": []
  }
 ],
 "metadata": {
  "kernelspec": {
   "display_name": "Python 3",
   "language": "python",
   "name": "python3"
  },
  "language_info": {
   "codemirror_mode": {
    "name": "ipython",
    "version": 3
   },
   "file_extension": ".py",
   "mimetype": "text/x-python",
   "name": "python",
   "nbconvert_exporter": "python",
   "pygments_lexer": "ipython3",
   "version": "3.7.8"
  }
 },
 "nbformat": 4,
 "nbformat_minor": 4
}
